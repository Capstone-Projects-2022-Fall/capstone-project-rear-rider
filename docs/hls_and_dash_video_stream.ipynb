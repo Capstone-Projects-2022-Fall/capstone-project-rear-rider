{
 "cells": [
  {
   "cell_type": "code",
   "execution_count": null,
   "metadata": {},
   "outputs": [],
   "source": [
    "from picamera2.encoders import H264Encoder\n",
    "from picamera2.outputs import FfmpegOutput\n",
    "from picamera2 import Picamera2\n",
    "import time"
   ]
  },
  {
   "cell_type": "code",
   "execution_count": null,
   "metadata": {},
   "outputs": [],
   "source": [
    "\n",
    "picam2 = Picamera2()"
   ]
  },
  {
   "cell_type": "code",
   "execution_count": null,
   "metadata": {},
   "outputs": [],
   "source": [
    "picam2.video_configuration.size = (640, 480)\n",
    "print(picam2.video_configuration)\n",
    "video_config = picam2.video_configuration"
   ]
  },
  {
   "cell_type": "code",
   "execution_count": null,
   "metadata": {},
   "outputs": [],
   "source": [
    "picam2.configure(video_config)\n",
    "encoder = H264Encoder(bitrate=1000000, repeat=True, iperiod=15)"
   ]
  },
  {
   "cell_type": "markdown",
   "metadata": {},
   "source": [
    "## Create a directory for the hls transcodings.\n",
    "```\n",
    "mkdir ./temp-streaming\n",
    "```"
   ]
  },
  {
   "cell_type": "code",
   "execution_count": null,
   "metadata": {},
   "outputs": [],
   "source": [
    "file_name = \"./temp-streaming/stream.file\"\n",
    "if True:\n",
    "    file_name = '{}.m3u8'.format(file_name)\n",
    "    output = FfmpegOutput(\"-f hls -hls_time 4 -hls_list_size 5 -hls_flags delete_segments -hls_allow_cache 0 {}\".format(file_name))\n",
    "else:\n",
    "    file_name = '{}.mpd'.format(file_name)\n",
    "    output = FfmpegOutput(\"-f dash -window_size 5 -use_template 1 -use_timeline 1 {}\".format(file_name))"
   ]
  },
  {
   "cell_type": "markdown",
   "metadata": {},
   "source": [
    "## Start capturing from the camera"
   ]
  },
  {
   "cell_type": "code",
   "execution_count": null,
   "metadata": {},
   "outputs": [],
   "source": [
    "picam2.start_recording(encoder, output)\n",
    "time.sleep(9999999)"
   ]
  },
  {
   "cell_type": "markdown",
   "metadata": {},
   "source": [
    "Now start an http server in the same directory as the notebook.\n",
    "\n",
    "```bash\n",
    "python -m http.server\n",
    "```"
   ]
  },
  {
   "cell_type": "markdown",
   "metadata": {},
   "source": []
  },
  {
   "cell_type": "markdown",
   "metadata": {},
   "source": [
    "## HTML webpage\n",
    "Run the following cell to get the camera preview in a web browser, or the link to the preview."
   ]
  },
  {
   "cell_type": "code",
   "execution_count": null,
   "metadata": {},
   "outputs": [],
   "source": [
    "index = open('./index.html', 'w')\n",
    "index.write(\n",
    "    \"\"\"<!DOCTYPE html>\n",
    "<!--[if lt IE 7]>      <html class=\"no-js lt-ie9 lt-ie8 lt-ie7\"> <![endif]-->\n",
    "<!--[if IE 7]>         <html class=\"no-js lt-ie9 lt-ie8\"> <![endif]-->\n",
    "<!--[if IE 8]>         <html class=\"no-js lt-ie9\"> <![endif]-->\n",
    "<!--[if gt IE 8]>      <html class=\"no-js\"> <!--<![endif]-->\n",
    "<html>\n",
    "    <head>\n",
    "        <meta charset=\"utf-8\">\n",
    "        <meta http-equiv=\"X-UA-Compatible\" content=\"IE=edge\">\n",
    "        <title>Rear Rider HLS Stream Test</title>\n",
    "        <meta name=\"description\" content=\"\">\n",
    "        <meta name=\"viewport\" content=\"width=device-width, initial-scale=1\">\n",
    "        <link rel=\"stylesheet\" href=\"\">\n",
    "    </head>\n",
    "    <body>\n",
    "        <!--[if lt IE 7]>\n",
    "            <p class=\"browsehappy\">You are using an <strong>outdated</strong> browser. Please <a href=\"#\">upgrade your browser</a> to improve your experience.</p>\n",
    "        <![endif]-->\n",
    "        \n",
    "        <script src=\"\" async defer></script>\n",
    "        <a href=\"{}\">Stream URL</a>\n",
    "    </body>\n",
    "</html>\n",
    "    \"\"\".format(file_name)\n",
    ")\n",
    "\n",
    "index.close()"
   ]
  },
  {
   "cell_type": "markdown",
   "metadata": {},
   "source": [
    "\n",
    "\n",
    "After the server has started go to VLC.\n",
    "\n",
    "## Go to VLC\n",
    "\n",
    "```\n",
    "http://localhost:8000/temp-streaming/stream.file.m3u8\n",
    "```\n",
    "HLS Stream url\n",
    "\n",
    "Media > Open Network Stream > Ctrl + V, then hit Enter\n",
    "\n"
   ]
  },
  {
   "cell_type": "markdown",
   "metadata": {},
   "source": [
    "## References\n",
    "\n",
    "https://forums.raspberrypi.com/viewtopic.php?t=335875#p2011064"
   ]
  }
 ],
 "metadata": {
  "kernelspec": {
   "display_name": "Python 3.9.2 32-bit",
   "language": "python",
   "name": "python3"
  },
  "language_info": {
   "codemirror_mode": {
    "name": "ipython",
    "version": 3
   },
   "file_extension": ".py",
   "mimetype": "text/x-python",
   "name": "python",
   "nbconvert_exporter": "python",
   "pygments_lexer": "ipython3",
   "version": "3.9.2"
  },
  "orig_nbformat": 4,
  "vscode": {
   "interpreter": {
    "hash": "767d51c1340bd893661ea55ea3124f6de3c7a262a8b4abca0554b478b1e2ff90"
   }
  }
 },
 "nbformat": 4,
 "nbformat_minor": 2
}
